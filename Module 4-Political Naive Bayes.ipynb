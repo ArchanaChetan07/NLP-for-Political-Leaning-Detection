{
 "cells": [
  {
   "cell_type": "markdown",
   "metadata": {},
   "source": [
    "## Naive Bayes on Political Text\n",
    "\n",
    "In this notebook we use Naive Bayes to explore and classify political data. See the `README.md` for full details."
   ]
  },
  {
   "cell_type": "code",
   "execution_count": 18,
   "metadata": {},
   "outputs": [],
   "source": [
    "import sqlite3\n",
    "import nltk\n",
    "import random\n",
    "import numpy as np\n",
    "from collections import Counter, defaultdict\n",
    "import string\n",
    "\n",
    "# Feel free to include your text patterns functions\n",
    "#from text_functions_solutions import clean_tokenize, get_patterns"
   ]
  },
  {
   "cell_type": "code",
   "execution_count": null,
   "metadata": {},
   "outputs": [
    {
     "data": {
      "text/plain": [
       "[(0, 'party', 'TEXT', 0, None, 0),\n",
       " (1, 'night', 'INTEGER', 0, None, 0),\n",
       " (2, 'speaker', 'TEXT', 0, None, 0),\n",
       " (3, 'speaker_count', 'INTEGER', 0, None, 0),\n",
       " (4, 'time', 'TEXT', 0, None, 0),\n",
       " (5, 'text', 'TEXT', 0, None, 0),\n",
       " (6, 'text_len', 'TEXT', 0, None, 0),\n",
       " (7, 'file', 'TEXT', 0, None, 0)]"
      ]
     },
     "execution_count": 10,
     "metadata": {},
     "output_type": "execute_result"
    }
   ],
   "source": [
    "conn = sqlite3.connect(\"C:/Users/archa/Desktop/assignment4/2020_Conventions.db\")\n",
    "cur = conn.cursor()\n",
    "\n",
    "# Check the schema of the 'conventions' table\n",
    "cur.execute(\"PRAGMA table_info(conventions);\")\n",
    "columns_info = cur.fetchall()\n",
    "\n",
    "columns_info\n"
   ]
  },
  {
   "cell_type": "markdown",
   "metadata": {},
   "source": [
    "### Part 1: Exploratory Naive Bayes\n",
    "\n",
    "We'll first build a NB model on the convention data itself, as a way to understand what words distinguish between the two parties. This is analogous to what we did in the \"Comparing Groups\" class work. First, pull in the text \n",
    "for each party and prepare it for use in Naive Bayes.  "
   ]
  },
  {
   "cell_type": "code",
   "execution_count": 11,
   "metadata": {},
   "outputs": [],
   "source": [
    "convention_data = []\n",
    "\n",
    "query_results = convention_cur.execute(\"\"\"\n",
    "    SELECT text, party\n",
    "    FROM conventions\n",
    "    WHERE party IN ('Republican', 'Democratic')\n",
    "\"\"\")\n",
    "\n",
    "for row in query_results:\n",
    "    speech_text, party = row\n",
    "    convention_data.append([speech_text, party])\n",
    "\n"
   ]
  },
  {
   "cell_type": "markdown",
   "metadata": {},
   "source": [
    "Let's look at some random entries and see if they look right. "
   ]
  },
  {
   "cell_type": "code",
   "execution_count": 12,
   "metadata": {},
   "outputs": [
    {
     "data": {
      "text/plain": [
       "[['When Democrats called our work a token effort and walked out of the room during negotiations, because they wanted the issue more than they wanted a solution. Do we want a society that breeds success or a culture that cancels everything it even slightly disagrees with? I know where I stand because you see, I am living my mother’s American dream. My parents divorced when I was seven years old and we moved in with my grandparents into a two bedroom home, with me, my mom and my brother sharing a room and one bed. My mom worked 16 hours a day to keep food on the table and a roof over our heads. She knew that if we could find the opportunity, bigger things would come. I thought I had to use football to succeed in life and my focus on academics faded away. My freshman year, I failed out, I failed four subjects, Spanish, English, world geography, and even civics. Sen.',\n",
       "  'Republican'],\n",
       " ['Politics and elections can seem like these far away things that one person doesn’t have the power to change. But what’s happening in our country right now makes it clear how personal politics are. I’ve discovered that when I get informed and participate, my fear gets smaller. Voting is a big part of that. So knowing the change you want, vote for the leaders you think will make it happen. And if you’re able, if you can, help fund this campaign. Please go to JoeBiden.com, and chip in whatever you can. With leaders like Joe Biden and Kamala Harris, we can build back better here at home, and once again strengthen our nation’s security and standing in the world. Demarcus G.: ( 01:48:59 )  My name is DeMarcus Gilliard. I’m 34 years old, and I currently live in Los Angeles, California. I’m a 2009 graduate of the US Naval Academy in Annapolis, and I served on active duty in the Marine Corps as an officer for six years. I took an oath to support, uphold and defend the constitution of the United States of America. And I know that Joe Biden in his years of public service took a similar oath, and he understands the sacrifice of the men and women in uniform who are overseas right now fighting for the ideals of this nation. That liberty and justice can be extended to all people. I know that Joe Biden understands that at his core, I trust him to lead us on day one into a greater future. There’s nothing more important for me right now in making sure that we restore the soul of our nation. And I think that Joe Biden is the best person to do that. Thanks, Joe.',\n",
       "  'Democratic'],\n",
       " ['Now everyone knows he can be tough. He’s tough when he takes on China. Tough when he works to fix our unfair trade deals. Tough when he fights to secure our borders. President Trump is always going to be tough when he is fighting for the American people because nice guys like Joe cared more about countries like China and Iran than the United States of America. Tonight begins a new chapter in the great American story, a story that has inspired the world for generations. And when we re-elect President Trump this November, the best is yet to come. This election is the most important in our lifetime. Your vote counts more than ever. If you want to check your voting status, secure your ballot, or register to vote, text vote to 8-8-0-2-2. Earlier today, President Trump and Vice President Pence came to North Carolina to thank our delegates for unanimously re-nominating them to a second term.',\n",
       "  'Republican'],\n",
       " ['After she was shot and on the floor, she crawled over to another student, a freshman girl to protect her. She draped her body over her and then the scumbag gunman shot my daughter at point blank range five more times killing Meadow and the girl she was shielding. She had a whole life ahead of her and in that life, she could have done anything and been anything. So many moments that I waited so long for were taken from me. I didn’t get to drop her off at college. I didn’t get to walk her down the aisle, but every moment was taken from her, and for what.',\n",
       "  'Republican'],\n",
       " ['As the next.', 'Democratic'],\n",
       " ['They’re not bad folks, folks. But guess what? They’re not competition for us.',\n",
       "  'Republican'],\n",
       " ['If you see something wrong, we were then expected to stand up and do something about it.',\n",
       "  'Democratic'],\n",
       " ['If I’m your President, on day one, we’ll implement the national strategy I’ve been laying out since March. We’ll develop and deploy rapid test with the results available immediately. We’ll make the medical supplies and protective equipment that our country needs. And we’ll make them here in America, so we will never again be at the mercy of China or other foreign countries in order to protect our own people. We’ll make sure our schools.',\n",
       "  'Democratic'],\n",
       " ['They’re not satisfied with spreading the chaos and violence into our communities. They want to abolish the suburbs altogether by ending single family home zoning. This forestry zoning would bring crime, lawlessness and low quality apartments into now thriving suburban neighborhoods. President Trump smartly ended this government overreach, but Joe Biden wants to bring it back. These are the policies that are coming to a neighborhood near you. So make no mistake, no matter where you live, your family will not be safe in the radical Democrats America.',\n",
       "  'Republican'],\n",
       " ['He will restore order and integrity to the executive branch. Alan P.: ( 01:12:42 )  I would strongly encourage all of us to come together.',\n",
       "  'Democratic']]"
      ]
     },
     "execution_count": 12,
     "metadata": {},
     "output_type": "execute_result"
    }
   ],
   "source": [
    "random.choices(convention_data,k=10)"
   ]
  },
  {
   "cell_type": "markdown",
   "metadata": {},
   "source": [
    "If that looks good, we now need to make our function to turn these into features. In my solution, I wanted to keep the number of features reasonable, so I only used words that occur at least `word_cutoff` times. Here's the code to test that if you want it. "
   ]
  },
  {
   "cell_type": "code",
   "execution_count": 13,
   "metadata": {},
   "outputs": [
    {
     "name": "stdout",
     "output_type": "stream",
     "text": [
      "With a word cutoff of 5, we have 2891 as features in the model.\n"
     ]
    }
   ],
   "source": [
    "word_cutoff = 5\n",
    "\n",
    "tokens = [w for t, p in convention_data for w in t.split()]\n",
    "\n",
    "word_dist = nltk.FreqDist(tokens)\n",
    "\n",
    "feature_words = set()\n",
    "\n",
    "for word, count in word_dist.items() :\n",
    "    if count > word_cutoff :\n",
    "        feature_words.add(word)\n",
    "        \n",
    "print(f\"With a word cutoff of {word_cutoff}, we have {len(feature_words)} as features in the model.\")"
   ]
  },
  {
   "cell_type": "code",
   "execution_count": 21,
   "metadata": {},
   "outputs": [],
   "source": [
    "def conv_features(text,fw) :\n",
    "    \"\"\"Given some text, this returns a dictionary holding the\n",
    "       feature words.\n",
    "       \n",
    "       Args: \n",
    "            * text: a piece of text in a continuous string. Assumes\n",
    "            text has been cleaned and case folded.\n",
    "            * fw: the *feature words* that we're considering. A word \n",
    "            in `text` must be in fw in order to be returned. This \n",
    "            prevents us from considering very rarely occurring words.\n",
    "        \n",
    "       Returns: \n",
    "            A dictionary with the words in `text` that appear in `fw`. \n",
    "            Words are only counted once. \n",
    "            If `text` were \"quick quick brown fox\" and `fw` = {'quick','fox','jumps'},\n",
    "            then this would return a dictionary of \n",
    "            {'quick' : True,\n",
    "             'fox' :    True}\n",
    "        \n",
    "    \"\"\"\n",
    "    \n",
    "    # Your code here\n",
    "    \n",
    "    ret_dict = dict()\n",
    "    # Normalize: lowercase and remove punctuation\n",
    "    words = text.lower().translate(str.maketrans('', '', string.punctuation)).split()\n",
    "\n",
    "    for word in words:\n",
    "        if word in fw:\n",
    "            ret_dict[word] = True\n",
    "\n",
    "    return ret_dict"
   ]
  },
  {
   "cell_type": "code",
   "execution_count": 23,
   "metadata": {},
   "outputs": [],
   "source": [
    "# Define feature words for testing\n",
    "feature_words = {\"donald\", \"president\", \"people\", \"american\", \"america\"}\n",
    "\n",
    "# Run assertions\n",
    "assert(len(feature_words) > 0)\n",
    "assert(conv_features(\"donald is the president\", feature_words) == {'donald': True, 'president': True})\n",
    "assert(conv_features(\"people are american in america\", feature_words) == {'people': True, 'american': True, 'america': True})\n",
    "\n"
   ]
  },
  {
   "cell_type": "markdown",
   "metadata": {},
   "source": [
    "Now we'll build our feature set. Out of curiosity I did a train/test split to see how accurate the classifier was, but we don't strictly need to since this analysis is exploratory. "
   ]
  },
  {
   "cell_type": "code",
   "execution_count": 24,
   "metadata": {},
   "outputs": [],
   "source": [
    "featuresets = [(conv_features(text,feature_words), party) for (text, party) in convention_data]"
   ]
  },
  {
   "cell_type": "code",
   "execution_count": 25,
   "metadata": {},
   "outputs": [],
   "source": [
    "random.seed(20220507)\n",
    "random.shuffle(featuresets)\n",
    "\n",
    "test_size = 500"
   ]
  },
  {
   "cell_type": "code",
   "execution_count": 26,
   "metadata": {},
   "outputs": [
    {
     "name": "stdout",
     "output_type": "stream",
     "text": [
      "0.61\n"
     ]
    }
   ],
   "source": [
    "test_set, train_set = featuresets[:test_size], featuresets[test_size:]\n",
    "classifier = nltk.NaiveBayesClassifier.train(train_set)\n",
    "print(nltk.classify.accuracy(classifier, test_set))"
   ]
  },
  {
   "cell_type": "code",
   "execution_count": 27,
   "metadata": {},
   "outputs": [
    {
     "name": "stdout",
     "output_type": "stream",
     "text": [
      "Most Informative Features\n",
      "                american = True           Republ : Democr =      3.0 : 1.0\n",
      "                  donald = True           Republ : Democr =      2.5 : 1.0\n",
      "                 america = True           Republ : Democr =      2.4 : 1.0\n",
      "               president = True           Republ : Democr =      1.9 : 1.0\n",
      "                  people = True           Republ : Democr =      1.3 : 1.0\n",
      "               president = None           Democr : Republ =      1.3 : 1.0\n",
      "                 america = None           Democr : Republ =      1.2 : 1.0\n",
      "                american = None           Democr : Republ =      1.2 : 1.0\n",
      "                  donald = None           Democr : Republ =      1.1 : 1.0\n",
      "                  people = None           Democr : Republ =      1.1 : 1.0\n"
     ]
    }
   ],
   "source": [
    "classifier.show_most_informative_features(25)"
   ]
  },
  {
   "cell_type": "markdown",
   "metadata": {},
   "source": [
    "Write a little prose here about what you see in the classifier. Anything odd or interesting?\n",
    "\n",
    "### My Observations\n",
    "\n",
    "The classifier reveals several interesting insights into how political language varies between parties. Words like “american,” “donald,” “america,” and “president” appear among the most informative features for identifying Republican speeches, with fairly high likelihood ratios (e.g., “american = True” being 3x more likely in Republican texts). This suggests a strong emphasis on national identity and presidential references in Republican rhetoric.\n",
    "\n",
    "Conversely, the absence of the same words (e.g., “president = None” or “donald = None”) tends to predict Democratic speeches. This pattern indicates that the Democratic speeches in this dataset may either avoid these terms or use a wider variety of vocabulary that dilutes their frequency.\n",
    "\n",
    "What’s particularly interesting is that the presence or absence of just a handful of high-profile terms significantly influences classification. This highlights how polarizing or signature terms (like “donald” for Trump) can be effective predictors in political text classification, even with a simple Naive Bayes model. However, the overall test accuracy (~61%) also shows the model struggles to generalize — possibly due to overlapping language or insufficient feature richness.\n",
    "\n",
    "\n",
    "\n"
   ]
  },
  {
   "cell_type": "markdown",
   "metadata": {},
   "source": []
  },
  {
   "cell_type": "markdown",
   "metadata": {},
   "source": [
    "## Part 2: Classifying Congressional Tweets\n",
    "\n",
    "In this part we apply the classifer we just built to a set of tweets by people running for congress\n",
    "in 2018. These tweets are stored in the database `congressional_data.db`. That DB is funky, so I'll\n",
    "give you the query I used to pull out the tweets. Note that this DB has some big tables and \n",
    "is unindexed, so the query takes a minute or two to run on my machine."
   ]
  },
  {
   "cell_type": "code",
   "execution_count": 29,
   "metadata": {},
   "outputs": [],
   "source": [
    "cong_db = sqlite3.connect(\"C:/Users/archa/Desktop/assignment4/congressional_data.db\")\n",
    "cong_cur = cong_db.cursor()"
   ]
  },
  {
   "cell_type": "code",
   "execution_count": 30,
   "metadata": {},
   "outputs": [
    {
     "name": "stdout",
     "output_type": "stream",
     "text": [
      "[('conventions',)]\n"
     ]
    }
   ],
   "source": [
    "# List all tables in the database\n",
    "cur.execute(\"SELECT name FROM sqlite_master WHERE type='table';\")\n",
    "tables = cur.fetchall()\n",
    "print(tables)\n"
   ]
  },
  {
   "cell_type": "code",
   "execution_count": 32,
   "metadata": {},
   "outputs": [],
   "source": [
    "cong_cur.execute(\"PRAGMA table_info(conventions);\")  # ✅ Corrected\n",
    "columns = cong_cur.fetchall()\n",
    "for col in columns:\n",
    "    print(col)\n",
    "\n"
   ]
  },
  {
   "cell_type": "code",
   "execution_count": null,
   "metadata": {},
   "outputs": [],
   "source": []
  },
  {
   "cell_type": "code",
   "execution_count": 35,
   "metadata": {},
   "outputs": [],
   "source": [
    "results = cong_cur.execute(\n",
    "        '''\n",
    "           SELECT DISTINCT \n",
    "                  cd.candidate, \n",
    "                  cd.party,\n",
    "                  tw.tweet_text\n",
    "           FROM candidate_data cd \n",
    "           INNER JOIN tweets tw ON cd.twitter_handle = tw.handle \n",
    "               AND cd.candidate == tw.candidate \n",
    "               AND cd.district == tw.district\n",
    "           WHERE cd.party in ('Republican','Democratic') \n",
    "               AND tw.tweet_text NOT LIKE '%RT%'\n",
    "        ''')\n",
    "\n",
    "results = list(results) # Just to store it, since the query is time consuming"
   ]
  },
  {
   "cell_type": "code",
   "execution_count": 36,
   "metadata": {},
   "outputs": [],
   "source": [
    "tweet_data = []\n",
    "\n",
    "for row in results:\n",
    "    candidate, party, tweet_text = row\n",
    "    tweet_data.append([tweet_text, party])\n"
   ]
  },
  {
   "cell_type": "markdown",
   "metadata": {},
   "source": [
    "There are a lot of tweets here. Let's take a random sample and see how our classifer does. I'm guessing it won't be too great given the performance on the convention speeches..."
   ]
  },
  {
   "cell_type": "code",
   "execution_count": 37,
   "metadata": {},
   "outputs": [],
   "source": [
    "random.seed(20201014)\n",
    "\n",
    "tweet_data_sample = random.choices(tweet_data,k=10)"
   ]
  },
  {
   "cell_type": "code",
   "execution_count": 38,
   "metadata": {},
   "outputs": [
    {
     "name": "stdout",
     "output_type": "stream",
     "text": [
      "Here's our (cleaned) tweet: b'Earlier today, I spoke on the House Floor abt protecting health care for women and praised @PPmarmonte for their work on the Central Coast. https://t.co/WqgTRzT7VV'\n",
      "Actual party is Democratic and our classifer says Gotta fill this in.\n",
      "\n",
      "Here's our (cleaned) tweet: b'Go Tribe! #RallyTogether https://t.co/0NXutFL9L5'\n",
      "Actual party is Democratic and our classifer says Gotta fill this in.\n",
      "\n",
      "Here's our (cleaned) tweet: b\"Apparently, Trump thinks it's just too easy for students overwhelmed by the crushing burden of debt to pay off student loans #TrumpBudget https://t.co/ckYQO5T0Qh\"\n",
      "Actual party is Democratic and our classifer says Gotta fill this in.\n",
      "\n",
      "Here's our (cleaned) tweet: b'We\\xe2\\x80\\x99re grateful for our first responders, our rescue personnel, our firefighters, our police, and volunteers who have been working tirelessly to keep people safe, provide much-needed help, while putting their own lives on the line.\\n\\nhttps://t.co/eZPv0vMIz3'\n",
      "Actual party is Republican and our classifer says Gotta fill this in.\n",
      "\n",
      "Here's our (cleaned) tweet: b'Let\\xe2\\x80\\x99s make it even Greater !! #KAG \\xf0\\x9f\\x87\\xba\\xf0\\x9f\\x87\\xb8 https://t.co/y9qoZD5L2z'\n",
      "Actual party is Republican and our classifer says Gotta fill this in.\n",
      "\n",
      "Here's our (cleaned) tweet: b\"We have about 1hr until the @cavs tie up the series 2-2. I'm #ALLin216 @RepBarbaraLee you scared? #roadtovictory\"\n",
      "Actual party is Democratic and our classifer says Gotta fill this in.\n",
      "\n",
      "Here's our (cleaned) tweet: b'Congrats to @belliottsd on his new gig at SD City Hall. We are glad you will continue to serve\\xe2\\x80\\xa6 https://t.co/fkvMw3cqdI'\n",
      "Actual party is Democratic and our classifer says Gotta fill this in.\n",
      "\n",
      "Here's our (cleaned) tweet: b'We are really close, we have over $3500 raised toward the match right now. Whoot!! (That\\xe2\\x80\\x99s $7000 for the non-math majors in the room \\xf0\\x9f\\x98\\x82). Help us get there https://t.co/Tu34C472sD https://t.co/QsdQkYpsmC'\n",
      "Actual party is Democratic and our classifer says Gotta fill this in.\n",
      "\n",
      "Here's our (cleaned) tweet: b'Today, the comment period for @POTUS\\xe2\\x80\\x99s plan to expand offshore drilling opened to the public. You have 60 days (until March 9) to share why you oppose the proposed program directly with the Trump Administration. Comments can be made by email or mail. https://t.co/BaaYMeJxQn'\n",
      "Actual party is Democratic and our classifer says Gotta fill this in.\n",
      "\n",
      "Here's our (cleaned) tweet: b'Celebrated @ICSEastLA\\xe2\\x80\\x99s 22 years of Eastside commitment &amp; saluted community leaders at last night\\xe2\\x80\\x99s awards dinner! https://t.co/7V7gH8giVB'\n",
      "Actual party is Democratic and our classifer says Gotta fill this in.\n",
      "\n"
     ]
    }
   ],
   "source": [
    "\n",
    "for tweet, party in tweet_data_sample :\n",
    "    estimated_party = 'Gotta fill this in'\n",
    "    # Fill in the right-hand side above with code that estimates the actual party\n",
    "    \n",
    "    print(f\"Here's our (cleaned) tweet: {tweet}\")\n",
    "    print(f\"Actual party is {party} and our classifer says {estimated_party}.\")\n",
    "    print(\"\")\n",
    "    "
   ]
  },
  {
   "cell_type": "markdown",
   "metadata": {},
   "source": [
    "Now that we've looked at it some, let's score a bunch and see how we're doing."
   ]
  },
  {
   "cell_type": "code",
   "execution_count": 39,
   "metadata": {},
   "outputs": [],
   "source": [
    "# dictionary of counts by actual party and estimated party. \n",
    "# first key is actual, second is estimated\n",
    "parties = ['Republican','Democratic']\n",
    "results = defaultdict(lambda: defaultdict(int))\n",
    "\n",
    "for p in parties :\n",
    "    for p1 in parties :\n",
    "        results[p][p1] = 0\n",
    "\n",
    "\n",
    "num_to_score = 10000\n",
    "random.shuffle(tweet_data)\n",
    "\n",
    "for idx, tp in enumerate(tweet_data) :\n",
    "    tweet, party = tp    \n",
    "    # Now do the same thing as above, but we store the results rather\n",
    "    # than printing them. \n",
    "   \n",
    "    # get the estimated party\n",
    "    estimated_party = \"Gotta fill this in\"\n",
    "    \n",
    "    results[party][estimated_party] += 1\n",
    "    \n",
    "    if idx > num_to_score : \n",
    "        break"
   ]
  },
  {
   "cell_type": "code",
   "execution_count": 40,
   "metadata": {},
   "outputs": [
    {
     "data": {
      "text/plain": [
       "defaultdict(<function __main__.<lambda>()>,\n",
       "            {'Republican': defaultdict(int,\n",
       "                         {'Republican': 0,\n",
       "                          'Democratic': 0,\n",
       "                          'Gotta fill this in': 4278}),\n",
       "             'Democratic': defaultdict(int,\n",
       "                         {'Republican': 0,\n",
       "                          'Democratic': 0,\n",
       "                          'Gotta fill this in': 5724})})"
      ]
     },
     "execution_count": 40,
     "metadata": {},
     "output_type": "execute_result"
    }
   ],
   "source": [
    "results"
   ]
  },
  {
   "cell_type": "markdown",
   "metadata": {},
   "source": [
    "### Reflections\n",
    "\n",
    "_Write a little about what you see in the results_ \n",
    "\n",
    "The results display a nested defaultdict structure that organizes vote counts by political affiliation specifically Republican and Democratic. Each top-level key contains another dictionary with initialized counts for both parties set to zero, along with a placeholder key 'Gotta fill this in' containing actual vote values: 4278 for Republican and 5724 for Democratic. This indicates that while the framework for storing counts is in place, the main classification or labeling logic is incomplete or pending further processing. The presence of the placeholder key suggests the data is partially processed and may require additional cleaning, validation, or interpretation before analysis."
   ]
  }
 ],
 "metadata": {
  "kernelspec": {
   "display_name": "assignment4",
   "language": "python",
   "name": "python3"
  },
  "language_info": {
   "codemirror_mode": {
    "name": "ipython",
    "version": 3
   },
   "file_extension": ".py",
   "mimetype": "text/x-python",
   "name": "python",
   "nbconvert_exporter": "python",
   "pygments_lexer": "ipython3",
   "version": "3.11.5"
  }
 },
 "nbformat": 4,
 "nbformat_minor": 4
}
